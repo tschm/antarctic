{
 "cells": [
  {
   "cell_type": "markdown",
   "id": "f27dacb8",
   "metadata": {
    "pycharm": {
     "name": "#%% md\n"
    }
   },
   "source": [
    "# Demo"
   ]
  },
  {
   "cell_type": "code",
   "execution_count": null,
   "id": "21aac5d3",
   "metadata": {
    "pycharm": {
     "name": "#%%\n",
     "is_executing": true
    }
   },
   "outputs": [],
   "source": [
    "from mongomock import MongoClient\n",
    "from mongoengine import Document, connect\n",
    "\n",
    "# connect with your existing MongoDB (here I am using a popular interface mocking a MongoDB)\n",
    "client = connect(db=\"test\", mongo_client_class=MongoClient)"
   ]
  },
  {
   "cell_type": "code",
   "execution_count": null,
   "id": "0d13c797",
   "metadata": {
    "pycharm": {
     "name": "#%%\n",
     "is_executing": true
    }
   },
   "outputs": [],
   "source": [
    "from antarctic.pandas_field import PandasField"
   ]
  },
  {
   "cell_type": "code",
   "execution_count": null,
   "id": "4b18ecfd",
   "metadata": {
    "pycharm": {
     "name": "#%%\n"
    }
   },
   "outputs": [],
   "source": []
  }
 ],
 "metadata": {
  "kernelspec": {
   "display_name": "Python 3 (ipykernel)",
   "language": "python",
   "name": "python3"
  },
  "language_info": {
   "codemirror_mode": {
    "name": "ipython",
    "version": 3
   },
   "file_extension": ".py",
   "mimetype": "text/x-python",
   "name": "python",
   "nbconvert_exporter": "python",
   "pygments_lexer": "ipython3",
   "version": "3.9.7"
  }
 },
 "nbformat": 4,
 "nbformat_minor": 5
}