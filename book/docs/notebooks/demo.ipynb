{
 "cells": [
  {
   "cell_type": "markdown",
   "id": "f27dacb8",
   "metadata": {
    "pycharm": {
     "name": "#%% md\n"
    }
   },
   "source": [
    "# Demo"
   ]
  },
  {
   "cell_type": "code",
   "execution_count": 1,
   "id": "21aac5d3",
   "metadata": {
    "pycharm": {
     "name": "#%%\n"
    }
   },
   "outputs": [],
   "source": [
    "import pandas as pd\n",
    "from mongomock import MongoClient\n",
    "from mongoengine import Document, connect\n",
    "\n",
    "# connect with your existing MongoDB (here I am using a popular interface mocking a MongoDB)\n",
    "client = connect(db=\"test\", mongo_client_class=MongoClient)"
   ]
  },
  {
   "cell_type": "code",
   "execution_count": 2,
   "id": "0d13c797",
   "metadata": {
    "pycharm": {
     "name": "#%%\n"
    }
   },
   "outputs": [],
   "source": [
    "from antarctic.pandas_field import PandasField"
   ]
  },
  {
   "cell_type": "code",
   "execution_count": 3,
   "id": "a357a963",
   "metadata": {
    "pycharm": {
     "name": "#%%\n"
    }
   },
   "outputs": [],
   "source": [
    "class Portfolio(Document):\n",
    "    nav = PandasField()\n",
    "    weights = PandasField()\n",
    "    prices = PandasField()"
   ]
  },
  {
   "cell_type": "code",
   "execution_count": null,
   "id": "b853b20b",
   "metadata": {
    "collapsed": false,
    "jupyter": {
     "outputs_hidden": false
    },
    "pycharm": {
     "name": "#%%\n"
    }
   },
   "outputs": [],
   "source": [
    "ts = pd.read_csv(\"data/ts.csv\", index_col=0, parse_dates=True)\n",
    "print(ts)\n"
   ]
  },
  {
   "cell_type": "code",
   "execution_count": null,
   "id": "6a678f04",
   "metadata": {
    "collapsed": false,
    "jupyter": {
     "outputs_hidden": false
    },
    "pycharm": {
     "name": "#%%\n"
    }
   },
   "outputs": [],
   "source": [
    "prices = pd.read_csv(\"data/price.csv\", index_col=0, parse_dates=True, header=0)\n",
    "print(prices)"
   ]
  },
  {
   "cell_type": "code",
   "execution_count": null,
   "id": "bbb6ec33",
   "metadata": {
    "collapsed": false,
    "jupyter": {
     "outputs_hidden": false
    },
    "pycharm": {
     "name": "#%%\n"
    }
   },
   "outputs": [],
   "source": [
    "portfolio = Portfolio(nav=ts, prices=prices, weights=pd.DataFrame(index=prices.index, columns=prices.columns, data=1.0/7))\n",
    "portfolio.save()\n"
   ]
  }
 ],
 "metadata": {
  "kernelspec": {
   "display_name": "Python 3 (ipykernel)",
   "language": "python",
   "name": "python3"
  },
  "language_info": {
   "codemirror_mode": {
    "name": "ipython",
    "version": 3
   },
   "file_extension": ".py",
   "mimetype": "text/x-python",
   "name": "python",
   "nbconvert_exporter": "python",
   "pygments_lexer": "ipython3",
   "version": "3.9.7"
  }
 },
 "nbformat": 4,
 "nbformat_minor": 5
}
