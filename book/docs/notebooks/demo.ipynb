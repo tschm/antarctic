{
 "cells": [
  {
   "cell_type": "markdown",
   "id": "f27dacb8",
   "metadata": {},
   "source": [
    "# Demo"
   ]
  },
  {
   "cell_type": "code",
   "execution_count": 4,
   "id": "21aac5d3",
   "metadata": {},
   "outputs": [],
   "source": [
    "from mongomock import MongoClient\n",
    "from mongoengine import Document, connect\n",
    "#from antarctic.pandas_fields import PandasField\n",
    "\n",
    "# connect with your existing MongoDB (here I am using a popular interface mocking a MongoDB)\n",
    "client = connect(db=\"test\", mongo_client_class=MongoClient)"
   ]
  },
  {
   "cell_type": "code",
   "execution_count": 2,
   "id": "0d13c797",
   "metadata": {},
   "outputs": [
    {
     "ename": "SyntaxError",
     "evalue": "invalid syntax (1722139382.py, line 1)",
     "output_type": "error",
     "traceback": [
      "\u001b[0;36m  Cell \u001b[0;32mIn[2], line 1\u001b[0;36m\u001b[0m\n\u001b[0;31m    which python\u001b[0m\n\u001b[0m          ^\u001b[0m\n\u001b[0;31mSyntaxError\u001b[0m\u001b[0;31m:\u001b[0m invalid syntax\n"
     ]
    }
   ],
   "source": []
  },
  {
   "cell_type": "code",
   "execution_count": null,
   "id": "4b18ecfd",
   "metadata": {},
   "outputs": [],
   "source": []
  }
 ],
 "metadata": {
  "kernelspec": {
   "display_name": "Python 3 (ipykernel)",
   "language": "python",
   "name": "python3"
  },
  "language_info": {
   "codemirror_mode": {
    "name": "ipython",
    "version": 3
   },
   "file_extension": ".py",
   "mimetype": "text/x-python",
   "name": "python",
   "nbconvert_exporter": "python",
   "pygments_lexer": "ipython3",
   "version": "3.9.7"
  }
 },
 "nbformat": 4,
 "nbformat_minor": 5
}
